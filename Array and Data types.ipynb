{
 "cells": [
  {
   "cell_type": "code",
   "execution_count": 1,
   "metadata": {},
   "outputs": [
    {
     "data": {
      "text/html": [
       "<table><tr><td>Numpy Type</td><td>C Type</td></tr><tr><td>np.bool</td><td>bool</td></tr><tr><td>np.byte</td><td>Signed Char</td></tr><tr><td>np.ubyte</td><td>Unsigned Char</td></tr><tr><td>np.short</td><td>short</td></tr><tr><td>np.ushort</td><td>unsigned short</td></tr><tr><td>np.intc</td><td>nt</td></tr><tr><td>np.uintc</td><td>unsigned int</td></tr><tr><td>np.int_</td><td>long</td></tr><tr><td>np.uint</td><td>unsigned long</td></tr><tr><td>np.longlong</td><td>long long</td></tr><tr><td>np.ulonglong</td><td>unsigned long long</td></tr><tr><td>np.half / np.float16</td><td>Half Precision Float</td></tr><tr><td>np.single</td><td>float</td></tr><tr><td>np.double</td><td>double</td></tr><tr><td>np.longdouble</td><td>long double</td></tr><tr><td>np.csingle</td><td>float complex</td></tr><tr><td>np.cdouble</td><td>double complex</td></tr><tr><td>np.clongdouble</td><td>long double complex</td></tr></table>"
      ],
      "text/plain": [
       "<IPython.core.display.HTML object>"
      ]
     },
     "metadata": {},
     "output_type": "display_data"
    }
   ],
   "source": [
    "from IPython.display import HTML, display\n",
    "\n",
    "data = [['Numpy Type','C Type'],\n",
    "        ['np.bool', 'bool'],\n",
    "        ['np.byte','Signed Char'],\n",
    "        ['np.ubyte','Unsigned Char'],\n",
    "        ['np.short','short'],\n",
    "        ['np.ushort','unsigned short'],\n",
    "        ['np.intc','nt'],\n",
    "        ['np.uintc','unsigned int'],['np.int_','long'],['np.uint','unsigned long'],['np.longlong','long long'],\n",
    "        ['np.ulonglong','unsigned long long'],['np.half / np.float16','Half Precision Float'],\n",
    "        ['np.single','float'],['np.double','double'],['np.longdouble','long double'],['np.csingle','float complex'],\n",
    "        ['np.cdouble','double complex'],['np.clongdouble','long double complex']\n",
    "        ]\n",
    "\n",
    "display(HTML(\n",
    "   '<table><tr>{}</tr></table>'.format(\n",
    "       '</tr><tr>'.join(\n",
    "           '<td>{}</td>'.format('</td><td>'.join(str(_) for _ in row)) for row in data)\n",
    "       )\n",
    "))"
   ]
  },
  {
   "cell_type": "code",
   "execution_count": 2,
   "metadata": {},
   "outputs": [],
   "source": [
    "import numpy as np"
   ]
  },
  {
   "cell_type": "code",
   "execution_count": 3,
   "metadata": {},
   "outputs": [
    {
     "name": "stdout",
     "output_type": "stream",
     "text": [
      "inf\n"
     ]
    }
   ],
   "source": [
    "y = np.float16(1234567890.0987654321)\n",
    "print(y)"
   ]
  },
  {
   "cell_type": "code",
   "execution_count": 4,
   "metadata": {},
   "outputs": [
    {
     "name": "stdout",
     "output_type": "stream",
     "text": [
      "1234568000.0\n"
     ]
    }
   ],
   "source": [
    "x = np.float32(1234567890.0987654321)\n",
    "print(x)"
   ]
  },
  {
   "cell_type": "code",
   "execution_count": 5,
   "metadata": {},
   "outputs": [
    {
     "data": {
      "text/plain": [
       "array([1, 2, 4])"
      ]
     },
     "execution_count": 5,
     "metadata": {},
     "output_type": "execute_result"
    }
   ],
   "source": [
    "x = np.int_([1,2,4])\n",
    "x"
   ]
  },
  {
   "cell_type": "code",
   "execution_count": 6,
   "metadata": {},
   "outputs": [
    {
     "data": {
      "text/plain": [
       "array([0, 1, 2], dtype=uint8)"
      ]
     },
     "execution_count": 6,
     "metadata": {},
     "output_type": "execute_result"
    }
   ],
   "source": [
    "x = np.arange(3, dtype=np.uint8)\n",
    "x"
   ]
  },
  {
   "cell_type": "code",
   "execution_count": 7,
   "metadata": {},
   "outputs": [
    {
     "data": {
      "text/plain": [
       "array([2, 4, 6, 8])"
      ]
     },
     "execution_count": 7,
     "metadata": {},
     "output_type": "execute_result"
    }
   ],
   "source": [
    "x = np.arange(2, 10, 2)\n",
    "x"
   ]
  },
  {
   "cell_type": "code",
   "execution_count": 8,
   "metadata": {},
   "outputs": [
    {
     "data": {
      "text/plain": [
       "array([1., 2., 3.], dtype=float32)"
      ]
     },
     "execution_count": 8,
     "metadata": {},
     "output_type": "execute_result"
    }
   ],
   "source": [
    "x = np.array([1, 2, 3], dtype='f')\n",
    "x"
   ]
  },
  {
   "cell_type": "code",
   "execution_count": 9,
   "metadata": {},
   "outputs": [
    {
     "data": {
      "text/plain": [
       "34"
      ]
     },
     "execution_count": 9,
     "metadata": {},
     "output_type": "execute_result"
    }
   ],
   "source": [
    "x = np.int8(34)\n",
    "x"
   ]
  },
  {
   "cell_type": "code",
   "execution_count": null,
   "metadata": {},
   "outputs": [],
   "source": []
  }
 ],
 "metadata": {
  "kernelspec": {
   "display_name": "Python 3",
   "language": "python",
   "name": "python3"
  },
  "language_info": {
   "codemirror_mode": {
    "name": "ipython",
    "version": 3
   },
   "file_extension": ".py",
   "mimetype": "text/x-python",
   "name": "python",
   "nbconvert_exporter": "python",
   "pygments_lexer": "ipython3",
   "version": "3.7.3"
  }
 },
 "nbformat": 4,
 "nbformat_minor": 2
}
